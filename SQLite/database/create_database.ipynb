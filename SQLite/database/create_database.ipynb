{
 "cells": [
  {
   "cell_type": "code",
   "execution_count": null,
   "source": [
    "import pandas as pd\r\n",
    "from sqlalchemy import create_engine\r\n",
    "from datetime import datetime"
   ],
   "outputs": [],
   "metadata": {}
  },
  {
   "cell_type": "code",
   "execution_count": null,
   "source": [
    "canada_rate_file = \"Resources/Exchangerates_Canada.csv\"\r\n",
    "china_rate_file = \"Resources/Exchangerates_China.csv\"\r\n",
    "euro_rate_file = \"Resources/Exchangerates_Euro.csv\"\r\n",
    "hongkong_rate_file = \"Resources/Exchangerates_HongKong.csv\"\r\n",
    "india_rate_file = \"Resources/Exchangerates_India.csv\"\r\n",
    "japan_rate_file = \"Resources/Exchangerates_Japan.csv\"\r\n",
    "korea_rate_file = \"Resources/Exchangerates_Korea.csv\"\r\n",
    "southafrica_rate_file = \"Resources/Exchangerates_SouthAfrica.csv\"\r\n",
    "swiss_rate_file = \"Resources/Exchangerates_Swiss.csv\"\r\n",
    "\r\n",
    "index_data_file = \"Resources/indexData.csv\"\r\n",
    "info_data_file = \"Resources/infoData.csv\""
   ],
   "outputs": [],
   "metadata": {}
  },
  {
   "cell_type": "code",
   "execution_count": null,
   "source": [
    "canada_df = pd.read_csv(canada_rate_file)\r\n",
    "china_df = pd.read_csv(china_rate_file)\r\n",
    "euro_df = pd.read_csv(euro_rate_file)\r\n",
    "hongkong_df = pd.read_csv(hongkong_rate_file)\r\n",
    "india_df = pd.read_csv(india_rate_file)\r\n",
    "japan_df = pd.read_csv(japan_rate_file)\r\n",
    "korea_df = pd.read_csv(korea_rate_file)\r\n",
    "southafrica_df = pd.read_csv(southafrica_rate_file)\r\n",
    "swiss_df = pd.read_csv(swiss_rate_file)\r\n",
    "\r\n",
    "data_df = pd.read_csv(index_data_file)\r\n",
    "info_df = pd.read_csv(info_data_file)"
   ],
   "outputs": [],
   "metadata": {}
  },
  {
   "cell_type": "code",
   "execution_count": null,
   "source": [
    "data_df"
   ],
   "outputs": [],
   "metadata": {}
  },
  {
   "cell_type": "code",
   "execution_count": null,
   "source": [
    "# keep only stock exchange data from year 2000 and later\r\n",
    "data_df = data_df.loc[data_df['Date']>= '2000-01-01']\r\n",
    "\r\n",
    "#remove taiwan data as we do not have exchange rates for this stock exchange.\r\n",
    "data_df = data_df.loc[data_df['Index']!= 'TWII']\r\n",
    "\r\n",
    "#drop unecessary column\r\n",
    "data_df.drop(columns='Adj Close',inplace= True)\r\n",
    "\r\n",
    "# stock exchange data with null values\r\n",
    "len(data_df)"
   ],
   "outputs": [],
   "metadata": {}
  },
  {
   "cell_type": "code",
   "execution_count": null,
   "source": [
    "data_df.dropna(inplace=True)\r\n",
    "len(data_df)"
   ],
   "outputs": [],
   "metadata": {}
  },
  {
   "cell_type": "code",
   "execution_count": null,
   "source": [
    "#convert date column string from exchnage rate data frames into date objects to macth data_df\r\n",
    "\r\n",
    "canada_df['Date']= pd.to_datetime(canada_df['Date'])\r\n",
    "china_df['Date']= pd.to_datetime(china_df['Date'])\r\n",
    "euro_df['Date']= pd.to_datetime(euro_df['Date'])\r\n",
    "hongkong_df['Date']= pd.to_datetime(hongkong_df['Date'])\r\n",
    "india_df['Date']= pd.to_datetime(india_df['Date'])\r\n",
    "japan_df['Date']= pd.to_datetime(japan_df['Date'])\r\n",
    "korea_df['Date']= pd.to_datetime(korea_df['Date'])\r\n",
    "southafrica_df['Date']= pd.to_datetime(southafrica_df['Date'])\r\n",
    "swiss_df['Date']= pd.to_datetime(swiss_df['Date'])\r\n",
    "\r\n",
    "data_df['Date']= pd.to_datetime(data_df['Date'])"
   ],
   "outputs": [],
   "metadata": {}
  },
  {
   "cell_type": "code",
   "execution_count": null,
   "source": [
    "#add column for currency type to merge on later\r\n",
    "canada_df['Currency']= 'CAD'\r\n",
    "china_df['Currency']= 'CNY'\r\n",
    "euro_df['Currency']= 'EUR'\r\n",
    "hongkong_df['Currency']= 'HKD'\r\n",
    "india_df['Currency']= 'INR'\r\n",
    "japan_df['Currency']= 'JPY'\r\n",
    "korea_df['Currency']= 'KRW'\r\n",
    "southafrica_df['Currency']= 'ZAR'\r\n",
    "swiss_df['Currency']= 'CHF'"
   ],
   "outputs": [],
   "metadata": {}
  },
  {
   "cell_type": "code",
   "execution_count": null,
   "source": [
    "#rename column\r\n",
    "canada_df.rename(columns = {'CAD':'exchange_rate'}, inplace = True)\r\n",
    "china_df.rename(columns = {'CNY':'exchange_rate'}, inplace = True)\r\n",
    "euro_df.rename(columns = {'EUR':'exchange_rate'}, inplace = True)\r\n",
    "hongkong_df.rename(columns = {'HKD':'exchange_rate'}, inplace = True)\r\n",
    "india_df.rename(columns = {'INR':'exchange_rate'}, inplace = True)\r\n",
    "japan_df.rename(columns = {'JPY':'exchange_rate'}, inplace = True)\r\n",
    "korea_df.rename(columns = {'KRW':'exchange_rate'}, inplace = True)\r\n",
    "southafrica_df.rename(columns = {'ZAR':'exchange_rate'}, inplace = True)\r\n",
    "swiss_df.rename(columns = {'CHF':'exchange_rate'}, inplace = True)"
   ],
   "outputs": [],
   "metadata": {}
  },
  {
   "cell_type": "code",
   "execution_count": null,
   "source": [
    "#concatenate all exchange rate data frames into one\r\n",
    "exchange_rate_df = pd.concat([canada_df, china_df, euro_df, hongkong_df, india_df, japan_df, korea_df, southafrica_df, swiss_df])\r\n",
    "exchange_rate_df"
   ],
   "outputs": [],
   "metadata": {}
  },
  {
   "cell_type": "code",
   "execution_count": null,
   "source": [
    "exchange_rate_df.dtypes"
   ],
   "outputs": [],
   "metadata": {}
  },
  {
   "cell_type": "code",
   "execution_count": null,
   "source": [
    "exchange_rate_df['exchange_rate'] = exchange_rate_df['exchange_rate'].replace(',', '',regex=True)"
   ],
   "outputs": [],
   "metadata": {}
  },
  {
   "cell_type": "code",
   "execution_count": null,
   "source": [
    "exchange_rate_df['exchange_rate'] = exchange_rate_df['exchange_rate'].astype(float)\r\n",
    "exchange_rate_df"
   ],
   "outputs": [],
   "metadata": {}
  },
  {
   "cell_type": "code",
   "execution_count": null,
   "source": [
    "# keep only exchange rate data from year 2000 and later\r\n",
    "exchange_rate_df = exchange_rate_df.loc[exchange_rate_df['Date']>= '2000-01-01']\r\n",
    "\r\n",
    "\r\n",
    "exchange_rate_df"
   ],
   "outputs": [],
   "metadata": {}
  },
  {
   "cell_type": "code",
   "execution_count": null,
   "source": [
    "# merge info df into data df\r\n",
    "merge_df = pd.merge(data_df,info_df,on='Index',how='left')\r\n",
    "merge_df"
   ],
   "outputs": [],
   "metadata": {}
  },
  {
   "cell_type": "code",
   "execution_count": null,
   "source": [
    "stock_exchange_df = pd.merge(merge_df,exchange_rate_df, on=['Currency','Date'], how='left')\r\n",
    "stock_exchange_df"
   ],
   "outputs": [],
   "metadata": {}
  },
  {
   "cell_type": "code",
   "execution_count": null,
   "source": [
    "#check for null values\r\n",
    "df_null = stock_exchange_df.loc[stock_exchange_df['exchange_rate'].isnull()]\r\n",
    "df_null['Index'].unique()"
   ],
   "outputs": [],
   "metadata": {}
  },
  {
   "cell_type": "code",
   "execution_count": null,
   "source": [
    "#There is no exchange rate values for USD sice that is our base currency, solution: fill all null values with 1.\r\n",
    "stock_exchange_df['exchange_rate'].fillna(1, inplace = True)\r\n",
    "stock_exchange_df['USD'].fillna(1, inplace = True)\r\n",
    "stock_exchange_df"
   ],
   "outputs": [],
   "metadata": {}
  },
  {
   "cell_type": "code",
   "execution_count": null,
   "source": [
    "#Do conversion of columns to USD\r\n",
    "stock_exchange_df['Open_USD']=stock_exchange_df['Open']/stock_exchange_df['exchange_rate']\r\n",
    "stock_exchange_df['High_USD']=stock_exchange_df['High']/stock_exchange_df['exchange_rate']\r\n",
    "stock_exchange_df['Low_USD']=stock_exchange_df['Low']/stock_exchange_df['exchange_rate']\r\n",
    "stock_exchange_df['Close_USD']=stock_exchange_df['Close']/stock_exchange_df['exchange_rate']\r\n",
    "stock_exchange_df"
   ],
   "outputs": [],
   "metadata": {}
  },
  {
   "cell_type": "code",
   "execution_count": null,
   "source": [
    "engine = create_engine('sqlite:///stock_exchange_db.sqlite', echo=True)\r\n",
    "sqlite_connection = engine.connect()"
   ],
   "outputs": [],
   "metadata": {}
  },
  {
   "cell_type": "code",
   "execution_count": null,
   "source": [
    "sqlite_table = \"stock_exchange\"\r\n",
    "stock_exchange_df.to_sql(sqlite_table, sqlite_connection, if_exists='replace', index=False)"
   ],
   "outputs": [],
   "metadata": {}
  },
  {
   "cell_type": "code",
   "execution_count": null,
   "source": [
    "sqlite_connection.close()"
   ],
   "outputs": [],
   "metadata": {}
  },
  {
   "cell_type": "code",
   "execution_count": null,
   "source": [],
   "outputs": [],
   "metadata": {}
  }
 ],
 "metadata": {
  "orig_nbformat": 4,
  "language_info": {
   "name": "python"
  }
 },
 "nbformat": 4,
 "nbformat_minor": 2
}